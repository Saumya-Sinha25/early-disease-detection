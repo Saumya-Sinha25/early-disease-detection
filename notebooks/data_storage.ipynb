{
 "cells": [
  {
   "cell_type": "code",
   "execution_count": 3,
   "id": "a7600433",
   "metadata": {},
   "outputs": [
    {
     "name": "stdout",
     "output_type": "stream",
     "text": [
      "   Pregnancies  Glucose  BloodPressure  SkinThickness  Insulin   BMI  \\\n",
      "0            6      148             72             35        0  33.6   \n",
      "1            1       85             66             29        0  26.6   \n",
      "2            8      183             64              0        0  23.3   \n",
      "3            1       89             66             23       94  28.1   \n",
      "4            0      137             40             35      168  43.1   \n",
      "\n",
      "   DiabetesPedigreeFunction  Age  Outcome  \n",
      "0                     0.627   50        1  \n",
      "1                     0.351   31        0  \n",
      "2                     0.672   32        1  \n",
      "3                     0.167   21        0  \n",
      "4                     2.288   33        1  \n"
     ]
    }
   ],
   "source": [
    "import pandas as pd\n",
    "import sqlite3\n",
    "import os\n",
    "\n",
    "# Load your CSV dataset\n",
    "df = pd.read_csv(\"./diabetes.csv\")\n",
    "\n",
    "# Ensure the directory exists\n",
    "os.makedirs(\"data/processed\", exist_ok=True)\n",
    "\n",
    "# Connect (or create) SQLite database\n",
    "conn = sqlite3.connect(\"data/processed/diabetes.db\")\n",
    "\n",
    "# Save DataFrame to SQLite database as table\n",
    "df.to_sql('diabetes_data', conn, if_exists='replace', index=False)\n",
    "\n",
    "# Confirm data is stored correctly\n",
    "query = \"SELECT * FROM diabetes_data LIMIT 5;\"\n",
    "stored_df = pd.read_sql(query, conn)\n",
    "print(stored_df)\n",
    "\n",
    "# Close the database connection\n",
    "conn.close()\n"
   ]
  },
  {
   "cell_type": "code",
   "execution_count": 4,
   "id": "94f5c29f",
   "metadata": {},
   "outputs": [
    {
     "name": "stdout",
     "output_type": "stream",
     "text": [
      "   Pregnancies  Glucose  BloodPressure  SkinThickness  Insulin   BMI  \\\n",
      "0            6      148             72             35        0  33.6   \n",
      "1            1       85             66             29        0  26.6   \n",
      "2            8      183             64              0        0  23.3   \n",
      "3            1       89             66             23       94  28.1   \n",
      "4            0      137             40             35      168  43.1   \n",
      "\n",
      "   DiabetesPedigreeFunction  Age  Outcome  \n",
      "0                     0.627   50        1  \n",
      "1                     0.351   31        0  \n",
      "2                     0.672   32        1  \n",
      "3                     0.167   21        0  \n",
      "4                     2.288   33        1  \n"
     ]
    }
   ],
   "source": [
    "import sqlite3\n",
    "\n",
    "# Connect to a SQLite DB file in the same folder\n",
    "conn = sqlite3.connect(\"diabetes.db\")\n",
    "\n",
    "# Store the cleaned DataFrame as a table\n",
    "df.to_sql('diabetes_cleaned', conn, if_exists='replace', index=False)\n",
    "\n",
    "# Preview from DB\n",
    "preview = pd.read_sql(\"SELECT * FROM diabetes_cleaned LIMIT 5;\", conn)\n",
    "print(preview)\n",
    "\n",
    "# Close connection\n",
    "conn.close()\n"
   ]
  }
 ],
 "metadata": {
  "kernelspec": {
   "display_name": "early_disease_detection_env",
   "language": "python",
   "name": "early_disease_detection_env"
  },
  "language_info": {
   "codemirror_mode": {
    "name": "ipython",
    "version": 3
   },
   "file_extension": ".py",
   "mimetype": "text/x-python",
   "name": "python",
   "nbconvert_exporter": "python",
   "pygments_lexer": "ipython3",
   "version": "3.13.3"
  }
 },
 "nbformat": 4,
 "nbformat_minor": 5
}
